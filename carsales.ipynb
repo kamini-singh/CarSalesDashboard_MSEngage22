{
 "cells": [
  {
   "cell_type": "code",
   "execution_count": 1,
   "id": "9cc1a339",
   "metadata": {},
   "outputs": [],
   "source": [
    "import pandas as pd\n",
    "import numpy as np\n",
    "import matplotlib \n",
    "from matplotlib import pyplot as plt\n",
    "%matplotlib inline\n",
    "import seaborn as sns"
   ]
  },
  {
   "cell_type": "code",
   "execution_count": null,
   "metadata": {},
   "outputs": [],
   "source": []
  },
  {
   "cell_type": "markdown",
   "id": "c2568c65",
   "metadata": {},
   "source": [
    "## Reading the data"
   ]
  },
  {
   "cell_type": "code",
   "execution_count": 2,
   "id": "fa262161",
   "metadata": {},
   "outputs": [
    {
     "data": {
      "text/html": [
       "<div>\n",
       "<style scoped>\n",
       "    .dataframe tbody tr th:only-of-type {\n",
       "        vertical-align: middle;\n",
       "    }\n",
       "\n",
       "    .dataframe tbody tr th {\n",
       "        vertical-align: top;\n",
       "    }\n",
       "\n",
       "    .dataframe thead th {\n",
       "        text-align: right;\n",
       "    }\n",
       "</style>\n",
       "<table border=\"1\" class=\"dataframe\">\n",
       "  <thead>\n",
       "    <tr style=\"text-align: right;\">\n",
       "      <th></th>\n",
       "      <th>Manufacturer</th>\n",
       "      <th>Model</th>\n",
       "      <th>Price</th>\n",
       "      <th>Transmission</th>\n",
       "      <th>Power</th>\n",
       "      <th>Engine CC</th>\n",
       "      <th>Fuel</th>\n",
       "      <th>Male</th>\n",
       "      <th>Female</th>\n",
       "      <th>Unknown</th>\n",
       "      <th>Total</th>\n",
       "    </tr>\n",
       "  </thead>\n",
       "  <tbody>\n",
       "    <tr>\n",
       "      <th>0</th>\n",
       "      <td>Ford</td>\n",
       "      <td>Focus</td>\n",
       "      <td>30.619322</td>\n",
       "      <td>5.966102</td>\n",
       "      <td>94.033898</td>\n",
       "      <td>1497.169492</td>\n",
       "      <td>petrol</td>\n",
       "      <td>814172</td>\n",
       "      <td>422731</td>\n",
       "      <td>56,487</td>\n",
       "      <td>1293390</td>\n",
       "    </tr>\n",
       "    <tr>\n",
       "      <th>1</th>\n",
       "      <td>Ford</td>\n",
       "      <td>Fiesta</td>\n",
       "      <td>18.532143</td>\n",
       "      <td>5.714286</td>\n",
       "      <td>68.571429</td>\n",
       "      <td>1166.142857</td>\n",
       "      <td>petrol</td>\n",
       "      <td>554879</td>\n",
       "      <td>631666</td>\n",
       "      <td>54,057</td>\n",
       "      <td>1240602</td>\n",
       "    </tr>\n",
       "    <tr>\n",
       "      <th>2</th>\n",
       "      <td>Volkswagen</td>\n",
       "      <td>Golf</td>\n",
       "      <td>31.242154</td>\n",
       "      <td>6.164835</td>\n",
       "      <td>89.461538</td>\n",
       "      <td>1537.406593</td>\n",
       "      <td>petrol</td>\n",
       "      <td>483216</td>\n",
       "      <td>310604</td>\n",
       "      <td>47,563</td>\n",
       "      <td>841383</td>\n",
       "    </tr>\n",
       "    <tr>\n",
       "      <th>3</th>\n",
       "      <td>Renault</td>\n",
       "      <td>Clio</td>\n",
       "      <td>22.100000</td>\n",
       "      <td>5.615385</td>\n",
       "      <td>75.576923</td>\n",
       "      <td>1219.653846</td>\n",
       "      <td>petrol</td>\n",
       "      <td>241287</td>\n",
       "      <td>312556</td>\n",
       "      <td>28,004</td>\n",
       "      <td>581847</td>\n",
       "    </tr>\n",
       "    <tr>\n",
       "      <th>4</th>\n",
       "      <td>BMW</td>\n",
       "      <td>320i</td>\n",
       "      <td>47.848370</td>\n",
       "      <td>6.444444</td>\n",
       "      <td>126.111111</td>\n",
       "      <td>1995.777778</td>\n",
       "      <td>petrol</td>\n",
       "      <td>408016</td>\n",
       "      <td>115843</td>\n",
       "      <td>29,125</td>\n",
       "      <td>552984</td>\n",
       "    </tr>\n",
       "  </tbody>\n",
       "</table>\n",
       "</div>"
      ],
      "text/plain": [
       "  Manufacturer   Model      Price  Transmission       Power    Engine CC  \\\n",
       "0         Ford   Focus  30.619322      5.966102   94.033898  1497.169492   \n",
       "1         Ford  Fiesta  18.532143      5.714286   68.571429  1166.142857   \n",
       "2   Volkswagen    Golf  31.242154      6.164835   89.461538  1537.406593   \n",
       "3      Renault    Clio  22.100000      5.615385   75.576923  1219.653846   \n",
       "4          BMW    320i  47.848370      6.444444  126.111111  1995.777778   \n",
       "\n",
       "     Fuel    Male  Female Unknown    Total  \n",
       "0  petrol  814172  422731  56,487  1293390  \n",
       "1  petrol  554879  631666  54,057  1240602  \n",
       "2  petrol  483216  310604  47,563   841383  \n",
       "3  petrol  241287  312556  28,004   581847  \n",
       "4  petrol  408016  115843  29,125   552984  "
      ]
     },
     "execution_count": 2,
     "metadata": {},
     "output_type": "execute_result"
    }
   ],
   "source": [
    "df = pd.read_csv(\"dataset/CarBuyers.csv\")\n",
    "df.head()"
   ]
  },
  {
   "cell_type": "markdown",
   "id": "5fd071e2",
   "metadata": {},
   "source": [
    "## Data Preprocessing"
   ]
  },
  {
   "cell_type": "code",
   "execution_count": 3,
   "id": "ce4590e8",
   "metadata": {},
   "outputs": [
    {
     "data": {
      "text/plain": [
       "(6092, 11)"
      ]
     },
     "execution_count": 3,
     "metadata": {},
     "output_type": "execute_result"
    }
   ],
   "source": [
    "#to get the number of rows and columns\n",
    "df.shape"
   ]
  },
  {
   "cell_type": "code",
   "execution_count": 4,
   "id": "98832ef2",
   "metadata": {},
   "outputs": [
    {
     "data": {
      "text/plain": [
       "Ford            355\n",
       "Peugeot         312\n",
       "Toyota          308\n",
       "Audi            293\n",
       "Fiat            288\n",
       "Volkswagen      278\n",
       "Mercedes        262\n",
       "Nissan          259\n",
       "Volvo           253\n",
       "Renault         242\n",
       "Honda           239\n",
       "Mazda           231\n",
       "Citroen         207\n",
       "BMW             204\n",
       "Hyundai         193\n",
       "Suzuki          186\n",
       "Mitsubishi      158\n",
       "Kia             152\n",
       "Alfa-Romeo      148\n",
       "Seat            140\n",
       "Porsche         114\n",
       "Skoda           113\n",
       "Rover           101\n",
       "Land-Rover       96\n",
       "Subaru           86\n",
       "Saab             81\n",
       "Jaguar           75\n",
       "Chrysler         71\n",
       "Daewoo           64\n",
       "Daihatsu         62\n",
       "Chevrolet        55\n",
       "MG               50\n",
       "Opel             48\n",
       "Smart            39\n",
       "Lotus            31\n",
       "Aston-Martin     31\n",
       "Lancia           29\n",
       "Ssangyong        29\n",
       "Triumph          26\n",
       "Datsun           24\n",
       "Daimler          24\n",
       "Mini             23\n",
       "Lada             22\n",
       "Dodge            18\n",
       "Lexus            17\n",
       "Morris           15\n",
       "TVR              11\n",
       "Ferrari          10\n",
       "Bentley          10\n",
       "Abarth            4\n",
       "Maserati          3\n",
       "Dacia             2\n",
       "Name: Manufacturer, dtype: int64"
      ]
     },
     "execution_count": 4,
     "metadata": {},
     "output_type": "execute_result"
    }
   ],
   "source": [
    "#to count all unique manufactureres\n",
    "df['Manufacturer'].value_counts()"
   ]
  },
  {
   "cell_type": "code",
   "execution_count": 5,
   "id": "8a358bd4",
   "metadata": {},
   "outputs": [
    {
     "data": {
      "text/plain": [
       "Manufacturer    0\n",
       "Model           0\n",
       "Price           0\n",
       "Transmission    0\n",
       "Power           0\n",
       "Engine CC       0\n",
       "Fuel            0\n",
       "Male            0\n",
       "Female          0\n",
       "Unknown         0\n",
       "Total           0\n",
       "dtype: int64"
      ]
     },
     "execution_count": 5,
     "metadata": {},
     "output_type": "execute_result"
    }
   ],
   "source": [
    "#to check if there are any null values or not\n",
    "df.isnull().sum()"
   ]
  },
  {
   "cell_type": "code",
   "execution_count": 6,
   "id": "798fe04e",
   "metadata": {},
   "outputs": [
    {
     "data": {
      "text/plain": [
       "Manufacturer    5590\n",
       "Model           5590\n",
       "Price           5590\n",
       "Transmission    5590\n",
       "Power           5590\n",
       "Engine CC       5590\n",
       "Fuel            5590\n",
       "Male            5590\n",
       "Female          5590\n",
       "Unknown         5590\n",
       "Total           5590\n",
       "dtype: int64"
      ]
     },
     "execution_count": 6,
     "metadata": {},
     "output_type": "execute_result"
    }
   ],
   "source": [
    "#we see that most of the values in rows are duplicate only the number of buyers are different, so to get the count:\n",
    "df[df.duplicated(['Manufacturer','Model','Transmission', 'Power', 'Engine CC','Fuel'])].count()"
   ]
  },
  {
   "cell_type": "code",
   "execution_count": 7,
   "id": "c658ee70",
   "metadata": {},
   "outputs": [],
   "source": [
    "#we will make the number of buyers(male, female, unknown, total) values into integer\n",
    "def to_integer(x):\n",
    "    return(int(x.replace(',','')))"
   ]
  },
  {
   "cell_type": "code",
   "execution_count": 8,
   "id": "3018bc66",
   "metadata": {},
   "outputs": [],
   "source": [
    "for col in ['Male', 'Female', 'Unknown', 'Total']:\n",
    "    df[col]= df[col].map(to_integer)"
   ]
  },
  {
   "cell_type": "code",
   "execution_count": 9,
   "id": "d1295c94",
   "metadata": {},
   "outputs": [],
   "source": [
    "#now lets add up all the buyer values so that we get only unique values for other columns\n",
    "df= df.groupby(['Manufacturer', 'Model', 'Price', 'Transmission', 'Power', 'Engine CC','Fuel'],\n",
    "               as_index=False).sum()"
   ]
  },
  {
   "cell_type": "code",
   "execution_count": 10,
   "id": "44ccc4e8",
   "metadata": {},
   "outputs": [
    {
     "name": "stderr",
     "output_type": "stream",
     "text": [
      "C:\\Users\\Kamini\\AppData\\Local\\Temp\\ipykernel_12688\\4271231753.py:2: FutureWarning: Dropping of nuisance columns in DataFrame reductions (with 'numeric_only=None') is deprecated; in a future version this will raise TypeError.  Select only valid columns before calling the reduction.\n",
      "  df.replace(0,df.mean(axis=0),inplace=True)\n"
     ]
    }
   ],
   "source": [
    "#to fill values=0 in the colums with their mean values\n",
    "df.replace(0,df.mean(axis=0),inplace=True)"
   ]
  },
  {
   "cell_type": "code",
   "execution_count": 11,
   "id": "588a3a38",
   "metadata": {},
   "outputs": [
    {
     "data": {
      "text/html": [
       "<div>\n",
       "<style scoped>\n",
       "    .dataframe tbody tr th:only-of-type {\n",
       "        vertical-align: middle;\n",
       "    }\n",
       "\n",
       "    .dataframe tbody tr th {\n",
       "        vertical-align: top;\n",
       "    }\n",
       "\n",
       "    .dataframe thead th {\n",
       "        text-align: right;\n",
       "    }\n",
       "</style>\n",
       "<table border=\"1\" class=\"dataframe\">\n",
       "  <thead>\n",
       "    <tr style=\"text-align: right;\">\n",
       "      <th></th>\n",
       "      <th>Manufacturer</th>\n",
       "      <th>Model</th>\n",
       "      <th>Price</th>\n",
       "      <th>Transmission</th>\n",
       "      <th>Power</th>\n",
       "      <th>Engine CC</th>\n",
       "      <th>Fuel</th>\n",
       "      <th>Male</th>\n",
       "      <th>Female</th>\n",
       "      <th>Unknown</th>\n",
       "      <th>Total</th>\n",
       "    </tr>\n",
       "  </thead>\n",
       "  <tbody>\n",
       "    <tr>\n",
       "      <th>0</th>\n",
       "      <td>Abarth</td>\n",
       "      <td>500C</td>\n",
       "      <td>21.105625</td>\n",
       "      <td>5.000000</td>\n",
       "      <td>60.625000</td>\n",
       "      <td>1039.500000</td>\n",
       "      <td>petrol</td>\n",
       "      <td>7124</td>\n",
       "      <td>4719</td>\n",
       "      <td>570</td>\n",
       "      <td>12413</td>\n",
       "    </tr>\n",
       "    <tr>\n",
       "      <th>1</th>\n",
       "      <td>Alfa-Romeo</td>\n",
       "      <td>145</td>\n",
       "      <td>17.427143</td>\n",
       "      <td>5.000000</td>\n",
       "      <td>87.714286</td>\n",
       "      <td>1696.428571</td>\n",
       "      <td>petrol</td>\n",
       "      <td>29993</td>\n",
       "      <td>11855</td>\n",
       "      <td>2186</td>\n",
       "      <td>44034</td>\n",
       "    </tr>\n",
       "    <tr>\n",
       "      <th>2</th>\n",
       "      <td>Alfa-Romeo</td>\n",
       "      <td>146</td>\n",
       "      <td>18.198429</td>\n",
       "      <td>5.000000</td>\n",
       "      <td>87.714286</td>\n",
       "      <td>1696.428571</td>\n",
       "      <td>petrol</td>\n",
       "      <td>40928</td>\n",
       "      <td>14231</td>\n",
       "      <td>2969</td>\n",
       "      <td>58128</td>\n",
       "    </tr>\n",
       "    <tr>\n",
       "      <th>3</th>\n",
       "      <td>Alfa-Romeo</td>\n",
       "      <td>147</td>\n",
       "      <td>25.343387</td>\n",
       "      <td>5.193548</td>\n",
       "      <td>95.096774</td>\n",
       "      <td>1802.774194</td>\n",
       "      <td>petrol</td>\n",
       "      <td>149499</td>\n",
       "      <td>83501</td>\n",
       "      <td>13278</td>\n",
       "      <td>246278</td>\n",
       "    </tr>\n",
       "    <tr>\n",
       "      <th>4</th>\n",
       "      <td>Alfa-Romeo</td>\n",
       "      <td>155</td>\n",
       "      <td>23.909333</td>\n",
       "      <td>5.000000</td>\n",
       "      <td>100.666667</td>\n",
       "      <td>2016.777778</td>\n",
       "      <td>petrol</td>\n",
       "      <td>28860</td>\n",
       "      <td>4422</td>\n",
       "      <td>1191</td>\n",
       "      <td>34473</td>\n",
       "    </tr>\n",
       "  </tbody>\n",
       "</table>\n",
       "</div>"
      ],
      "text/plain": [
       "  Manufacturer Model      Price  Transmission       Power    Engine CC  \\\n",
       "0       Abarth  500C  21.105625      5.000000   60.625000  1039.500000   \n",
       "1   Alfa-Romeo   145  17.427143      5.000000   87.714286  1696.428571   \n",
       "2   Alfa-Romeo   146  18.198429      5.000000   87.714286  1696.428571   \n",
       "3   Alfa-Romeo   147  25.343387      5.193548   95.096774  1802.774194   \n",
       "4   Alfa-Romeo   155  23.909333      5.000000  100.666667  2016.777778   \n",
       "\n",
       "     Fuel    Male  Female  Unknown   Total  \n",
       "0  petrol    7124    4719      570   12413  \n",
       "1  petrol   29993   11855     2186   44034  \n",
       "2  petrol   40928   14231     2969   58128  \n",
       "3  petrol  149499   83501    13278  246278  \n",
       "4  petrol   28860    4422     1191   34473  "
      ]
     },
     "execution_count": 11,
     "metadata": {},
     "output_type": "execute_result"
    }
   ],
   "source": [
    "df.head()"
   ]
  },
  {
   "cell_type": "code",
   "execution_count": 12,
   "id": "a1af0d36",
   "metadata": {},
   "outputs": [
    {
     "data": {
      "text/plain": [
       "(502, 11)"
      ]
     },
     "execution_count": 12,
     "metadata": {},
     "output_type": "execute_result"
    }
   ],
   "source": [
    "df.shape\n",
    "#after removing the dupliacte rows we are left with only 502 rows"
   ]
  },
  {
   "cell_type": "code",
   "execution_count": 13,
   "id": "028c26cf",
   "metadata": {},
   "outputs": [],
   "source": [
    "#saving the cleaning data frame into csv to extract other stats in future\n",
    "df.to_csv('Cars_cleaned_data.csv')"
   ]
  },
  {
   "cell_type": "code",
   "execution_count": 14,
   "id": "b9b00953",
   "metadata": {},
   "outputs": [
    {
     "data": {
      "text/plain": [
       "Peugeot         31\n",
       "Audi            24\n",
       "Ford            24\n",
       "Fiat            23\n",
       "Renault         23\n",
       "Volkswagen      23\n",
       "Toyota          23\n",
       "Nissan          22\n",
       "Hyundai         19\n",
       "Citroen         18\n",
       "Mercedes        17\n",
       "Honda           17\n",
       "Volvo           17\n",
       "Mazda           16\n",
       "BMW             15\n",
       "Suzuki          13\n",
       "Kia             13\n",
       "Skoda           12\n",
       "Alfa-Romeo      12\n",
       "Seat            11\n",
       "Mitsubishi       9\n",
       "Chevrolet        9\n",
       "Porsche          8\n",
       "Opel             7\n",
       "Rover            6\n",
       "Subaru           6\n",
       "Jaguar           6\n",
       "Chrysler         6\n",
       "Saab             5\n",
       "Daihatsu         5\n",
       "Mini             5\n",
       "Smart            4\n",
       "Ssangyong        4\n",
       "MG               4\n",
       "Land-Rover       4\n",
       "Lancia           4\n",
       "Daewoo           4\n",
       "Lexus            3\n",
       "Dodge            3\n",
       "Datsun           3\n",
       "Daimler          3\n",
       "Aston-Martin     3\n",
       "Lada             3\n",
       "TVR              2\n",
       "Triumph          2\n",
       "Lotus            2\n",
       "Morris           2\n",
       "Ferrari          2\n",
       "Dacia            2\n",
       "Maserati         1\n",
       "Bentley          1\n",
       "Abarth           1\n",
       "Name: Manufacturer, dtype: int64"
      ]
     },
     "execution_count": 14,
     "metadata": {},
     "output_type": "execute_result"
    }
   ],
   "source": [
    "df['Manufacturer'].value_counts()"
   ]
  },
  {
   "cell_type": "code",
   "execution_count": 15,
   "id": "324021c3",
   "metadata": {},
   "outputs": [],
   "source": [
    "#to predict the price of a car, we don't need the model, male, female, unknown and total columns so lets drop them\n",
    "final_df=df[['Manufacturer','Transmission','Power','Engine CC','Fuel','Price']]"
   ]
  },
  {
   "cell_type": "code",
   "execution_count": 16,
   "id": "3ea44bde",
   "metadata": {},
   "outputs": [
    {
     "data": {
      "text/html": [
       "<div>\n",
       "<style scoped>\n",
       "    .dataframe tbody tr th:only-of-type {\n",
       "        vertical-align: middle;\n",
       "    }\n",
       "\n",
       "    .dataframe tbody tr th {\n",
       "        vertical-align: top;\n",
       "    }\n",
       "\n",
       "    .dataframe thead th {\n",
       "        text-align: right;\n",
       "    }\n",
       "</style>\n",
       "<table border=\"1\" class=\"dataframe\">\n",
       "  <thead>\n",
       "    <tr style=\"text-align: right;\">\n",
       "      <th></th>\n",
       "      <th>Manufacturer</th>\n",
       "      <th>Transmission</th>\n",
       "      <th>Power</th>\n",
       "      <th>Engine CC</th>\n",
       "      <th>Fuel</th>\n",
       "      <th>Price</th>\n",
       "    </tr>\n",
       "  </thead>\n",
       "  <tbody>\n",
       "    <tr>\n",
       "      <th>0</th>\n",
       "      <td>Abarth</td>\n",
       "      <td>5.000000</td>\n",
       "      <td>60.625000</td>\n",
       "      <td>1039.500000</td>\n",
       "      <td>petrol</td>\n",
       "      <td>21.105625</td>\n",
       "    </tr>\n",
       "    <tr>\n",
       "      <th>1</th>\n",
       "      <td>Alfa-Romeo</td>\n",
       "      <td>5.000000</td>\n",
       "      <td>87.714286</td>\n",
       "      <td>1696.428571</td>\n",
       "      <td>petrol</td>\n",
       "      <td>17.427143</td>\n",
       "    </tr>\n",
       "    <tr>\n",
       "      <th>2</th>\n",
       "      <td>Alfa-Romeo</td>\n",
       "      <td>5.000000</td>\n",
       "      <td>87.714286</td>\n",
       "      <td>1696.428571</td>\n",
       "      <td>petrol</td>\n",
       "      <td>18.198429</td>\n",
       "    </tr>\n",
       "    <tr>\n",
       "      <th>3</th>\n",
       "      <td>Alfa-Romeo</td>\n",
       "      <td>5.193548</td>\n",
       "      <td>95.096774</td>\n",
       "      <td>1802.774194</td>\n",
       "      <td>petrol</td>\n",
       "      <td>25.343387</td>\n",
       "    </tr>\n",
       "    <tr>\n",
       "      <th>4</th>\n",
       "      <td>Alfa-Romeo</td>\n",
       "      <td>5.000000</td>\n",
       "      <td>100.666667</td>\n",
       "      <td>2016.777778</td>\n",
       "      <td>petrol</td>\n",
       "      <td>23.909333</td>\n",
       "    </tr>\n",
       "  </tbody>\n",
       "</table>\n",
       "</div>"
      ],
      "text/plain": [
       "  Manufacturer  Transmission       Power    Engine CC    Fuel      Price\n",
       "0       Abarth      5.000000   60.625000  1039.500000  petrol  21.105625\n",
       "1   Alfa-Romeo      5.000000   87.714286  1696.428571  petrol  17.427143\n",
       "2   Alfa-Romeo      5.000000   87.714286  1696.428571  petrol  18.198429\n",
       "3   Alfa-Romeo      5.193548   95.096774  1802.774194  petrol  25.343387\n",
       "4   Alfa-Romeo      5.000000  100.666667  2016.777778  petrol  23.909333"
      ]
     },
     "execution_count": 16,
     "metadata": {},
     "output_type": "execute_result"
    }
   ],
   "source": [
    "final_df.head()"
   ]
  },
  {
   "cell_type": "markdown",
   "id": "187d1eaa",
   "metadata": {},
   "source": [
    "### Visualization of depent variables: Price"
   ]
  },
  {
   "cell_type": "code",
   "execution_count": 17,
   "id": "f29ed033",
   "metadata": {},
   "outputs": [
    {
     "data": {
      "image/png": "[encoded data removed]",
      "text/plain": [
       "<Figure size 432x288 with 1 Axes>"
      ]
     },
     "metadata": {
      "needs_background": "light"
     },
     "output_type": "display_data"
    }
   ],
   "source": [
    "plt.title('Car Price Distribution')\n",
    "sns.histplot(df.Price)\n",
    "plt.show()"
   ]
  },
  {
   "cell_type": "markdown",
   "id": "dd6df3b7",
   "metadata": {},
   "source": [
    "### Visualization of independent variables"
   ]
  },
  {
   "cell_type": "markdown",
   "id": "56f9742e",
   "metadata": {},
   "source": [
    "#### Price V/S Transmission, Power, Engine CC"
   ]
  },
  {
   "cell_type": "code",
   "execution_count": 18,
   "id": "0c97a138",
   "metadata": {},
   "outputs": [],
   "source": [
    "y_vars=['Price']"
   ]
  },
  {
   "cell_type": "code",
   "execution_count": 19,
   "id": "72a6de3a",
   "metadata": {},
   "outputs": [],
   "source": [
    "x_vars=['Transmission', 'Power', 'Engine CC']"
   ]
  },
  {
   "cell_type": "code",
   "execution_count": 20,
   "id": "531be341",
   "metadata": {},
   "outputs": [],
   "source": [
    "import scipy\n",
    "from scipy.stats import pearsonr\n",
    "\n",
    "def pair_plot(x_axis,y_axis) :\n",
    "    sns.pairplot(df,x_vars=x_axis,y_vars=y_axis,height=4,aspect=1,kind=\"scatter\")\n",
    "    plt.show()"
   ]
  },
  {
   "cell_type": "code",
   "execution_count": 21,
   "id": "823bec9d",
   "metadata": {},
   "outputs": [
    {
     "data": {
      "image/png": "[encoded data removed]",
      "text/plain": [
       "<Figure size 864x288 with 3 Axes>"
      ]
     },
     "metadata": {
      "needs_background": "light"
     },
     "output_type": "display_data"
    },
    {
     "name": "stdout",
     "output_type": "stream",
     "text": [
      "\n",
      "Coefficient of Correlation between Price and Transmission: 40.51656467805692 %\n",
      "Correlation coefficient between Price and Power: 87.55054212592577 %\n",
      "Correlation coefficient between Price and Engine CC:  78.05703229912237 %\n"
     ]
    }
   ],
   "source": [
    "pair_plot(x_vars,y_vars)\n",
    "p1=df['Transmission']\n",
    "p2=df['Power']\n",
    "p3=df['Engine CC']\n",
    "\n",
    "pearson_coeff, p_value = pearsonr(p1,df['Price'])\n",
    "print('\\nCoefficient of Correlation between Price and Transmission:',pearson_coeff*100,'%')\n",
    "\n",
    "pearson_coeff, p_value = pearsonr(p2,df['Price'])\n",
    "print('Correlation coefficient between Price and Power:',pearson_coeff*100,'%')\n",
    "\n",
    "pearson_coeff, p_value = pearsonr(p3,df['Price'])\n",
    "print('Correlation coefficient between Price and Engine CC: ',pearson_coeff*100,'%')"
   ]
  },
  {
   "cell_type": "code",
   "execution_count": 22,
   "id": "d4daeb3d",
   "metadata": {},
   "outputs": [
    {
     "data": {
      "image/png": "[encoded data removed]",
      "text/plain": [
       "<Figure size 1440x648 with 1 Axes>"
      ]
     },
     "metadata": {
      "needs_background": "light"
     },
     "output_type": "display_data"
    }
   ],
   "source": [
    "plt.figure(figsize=(20,9))\n",
    "\n",
    "plt.xticks(rotation = 90)\n",
    "order = df['Manufacturer'].value_counts(ascending=False).index\n",
    "sns.countplot(x='Manufacturer', data=df, order=order)\n",
    "\n",
    "plt.show()"
   ]
  },
  {
   "cell_type": "code",
   "execution_count": 23,
   "id": "0e6efb2c",
   "metadata": {},
   "outputs": [
    {
     "data": {
      "image/png": "[encoded data removed]",
      "text/plain": [
       "<Figure size 1440x648 with 2 Axes>"
      ]
     },
     "metadata": {
      "needs_background": "light"
     },
     "output_type": "display_data"
    }
   ],
   "source": [
    "plt.figure(figsize=(20, 9))\n",
    "\n",
    "plt.subplot(2,3,1)\n",
    "sns.boxplot(x = 'Fuel', y = 'Price', data = df)\n",
    "\n",
    "plt.subplot(2,3,2)\n",
    "plt.title('Fuel Histogram')\n",
    "order = df['Fuel'].value_counts(ascending=False).index\n",
    "sns.countplot(x='Fuel', data=df, order=order)\n",
    "\n",
    "plt.show()"
   ]
  },
  {
   "cell_type": "code",
   "execution_count": 24,
   "id": "c7e547e1",
   "metadata": {},
   "outputs": [],
   "source": [
    "#average  price of diesel and Petrol cars is same, except for existense the outliners in petrol"
   ]
  },
  {
   "cell_type": "code",
   "execution_count": 25,
   "id": "13d7f42b",
   "metadata": {},
   "outputs": [
    {
     "data": {
      "image/png": "[encoded data removed]",
      "text/plain": [
       "<Figure size 1440x1440 with 2 Axes>"
      ]
     },
     "metadata": {
      "needs_background": "light"
     },
     "output_type": "display_data"
    }
   ],
   "source": [
    "corrmat = final_df.corr()\n",
    "top_corr_features = corrmat.index\n",
    "plt.figure(figsize=(20,20))\n",
    "g=sns.heatmap(df[top_corr_features].corr(),annot=True,cmap=\"RdYlGn\")"
   ]
  },
  {
   "cell_type": "code",
   "execution_count": 26,
   "id": "21083675",
   "metadata": {},
   "outputs": [],
   "source": [
    "#one hot-encoding\n",
    "final_df=pd.get_dummies(final_df,drop_first=True)\n"
   ]
  },
  {
   "cell_type": "code",
   "execution_count": 27,
   "id": "a3241416",
   "metadata": {},
   "outputs": [
    {
     "data": {
      "text/html": [
       "<div>\n",
       "<style scoped>\n",
       "    .dataframe tbody tr th:only-of-type {\n",
       "        vertical-align: middle;\n",
       "    }\n",
       "\n",
       "    .dataframe tbody tr th {\n",
       "        vertical-align: top;\n",
       "    }\n",
       "\n",
       "    .dataframe thead th {\n",
       "        text-align: right;\n",
       "    }\n",
       "</style>\n",
       "<table border=\"1\" class=\"dataframe\">\n",
       "  <thead>\n",
       "    <tr style=\"text-align: right;\">\n",
       "      <th></th>\n",
       "      <th>Transmission</th>\n",
       "      <th>Power</th>\n",
       "      <th>Engine CC</th>\n",
       "      <th>Price</th>\n",
       "      <th>Manufacturer_Alfa-Romeo</th>\n",
       "      <th>Manufacturer_Aston-Martin</th>\n",
       "      <th>Manufacturer_Audi</th>\n",
       "      <th>Manufacturer_BMW</th>\n",
       "      <th>Manufacturer_Bentley</th>\n",
       "      <th>Manufacturer_Chevrolet</th>\n",
       "      <th>...</th>\n",
       "      <th>Manufacturer_Ssangyong</th>\n",
       "      <th>Manufacturer_Subaru</th>\n",
       "      <th>Manufacturer_Suzuki</th>\n",
       "      <th>Manufacturer_TVR</th>\n",
       "      <th>Manufacturer_Toyota</th>\n",
       "      <th>Manufacturer_Triumph</th>\n",
       "      <th>Manufacturer_Volkswagen</th>\n",
       "      <th>Manufacturer_Volvo</th>\n",
       "      <th>Fuel_diesel</th>\n",
       "      <th>Fuel_petrol</th>\n",
       "    </tr>\n",
       "  </thead>\n",
       "  <tbody>\n",
       "    <tr>\n",
       "      <th>0</th>\n",
       "      <td>5.000000</td>\n",
       "      <td>60.625000</td>\n",
       "      <td>1039.500000</td>\n",
       "      <td>21.105625</td>\n",
       "      <td>0</td>\n",
       "      <td>0</td>\n",
       "      <td>0</td>\n",
       "      <td>0</td>\n",
       "      <td>0</td>\n",
       "      <td>0</td>\n",
       "      <td>...</td>\n",
       "      <td>0</td>\n",
       "      <td>0</td>\n",
       "      <td>0</td>\n",
       "      <td>0</td>\n",
       "      <td>0</td>\n",
       "      <td>0</td>\n",
       "      <td>0</td>\n",
       "      <td>0</td>\n",
       "      <td>0</td>\n",
       "      <td>1</td>\n",
       "    </tr>\n",
       "    <tr>\n",
       "      <th>1</th>\n",
       "      <td>5.000000</td>\n",
       "      <td>87.714286</td>\n",
       "      <td>1696.428571</td>\n",
       "      <td>17.427143</td>\n",
       "      <td>1</td>\n",
       "      <td>0</td>\n",
       "      <td>0</td>\n",
       "      <td>0</td>\n",
       "      <td>0</td>\n",
       "      <td>0</td>\n",
       "      <td>...</td>\n",
       "      <td>0</td>\n",
       "      <td>0</td>\n",
       "      <td>0</td>\n",
       "      <td>0</td>\n",
       "      <td>0</td>\n",
       "      <td>0</td>\n",
       "      <td>0</td>\n",
       "      <td>0</td>\n",
       "      <td>0</td>\n",
       "      <td>1</td>\n",
       "    </tr>\n",
       "    <tr>\n",
       "      <th>2</th>\n",
       "      <td>5.000000</td>\n",
       "      <td>87.714286</td>\n",
       "      <td>1696.428571</td>\n",
       "      <td>18.198429</td>\n",
       "      <td>1</td>\n",
       "      <td>0</td>\n",
       "      <td>0</td>\n",
       "      <td>0</td>\n",
       "      <td>0</td>\n",
       "      <td>0</td>\n",
       "      <td>...</td>\n",
       "      <td>0</td>\n",
       "      <td>0</td>\n",
       "      <td>0</td>\n",
       "      <td>0</td>\n",
       "      <td>0</td>\n",
       "      <td>0</td>\n",
       "      <td>0</td>\n",
       "      <td>0</td>\n",
       "      <td>0</td>\n",
       "      <td>1</td>\n",
       "    </tr>\n",
       "    <tr>\n",
       "      <th>3</th>\n",
       "      <td>5.193548</td>\n",
       "      <td>95.096774</td>\n",
       "      <td>1802.774194</td>\n",
       "      <td>25.343387</td>\n",
       "      <td>1</td>\n",
       "      <td>0</td>\n",
       "      <td>0</td>\n",
       "      <td>0</td>\n",
       "      <td>0</td>\n",
       "      <td>0</td>\n",
       "      <td>...</td>\n",
       "      <td>0</td>\n",
       "      <td>0</td>\n",
       "      <td>0</td>\n",
       "      <td>0</td>\n",
       "      <td>0</td>\n",
       "      <td>0</td>\n",
       "      <td>0</td>\n",
       "      <td>0</td>\n",
       "      <td>0</td>\n",
       "      <td>1</td>\n",
       "    </tr>\n",
       "    <tr>\n",
       "      <th>4</th>\n",
       "      <td>5.000000</td>\n",
       "      <td>100.666667</td>\n",
       "      <td>2016.777778</td>\n",
       "      <td>23.909333</td>\n",
       "      <td>1</td>\n",
       "      <td>0</td>\n",
       "      <td>0</td>\n",
       "      <td>0</td>\n",
       "      <td>0</td>\n",
       "      <td>0</td>\n",
       "      <td>...</td>\n",
       "      <td>0</td>\n",
       "      <td>0</td>\n",
       "      <td>0</td>\n",
       "      <td>0</td>\n",
       "      <td>0</td>\n",
       "      <td>0</td>\n",
       "      <td>0</td>\n",
       "      <td>0</td>\n",
       "      <td>0</td>\n",
       "      <td>1</td>\n",
       "    </tr>\n",
       "  </tbody>\n",
       "</table>\n",
       "<p>5 rows × 57 columns</p>\n",
       "</div>"
      ],
      "text/plain": [
       "   Transmission       Power    Engine CC      Price  Manufacturer_Alfa-Romeo  \\\n",
       "0      5.000000   60.625000  1039.500000  21.105625                        0   \n",
       "1      5.000000   87.714286  1696.428571  17.427143                        1   \n",
       "2      5.000000   87.714286  1696.428571  18.198429                        1   \n",
       "3      5.193548   95.096774  1802.774194  25.343387                        1   \n",
       "4      5.000000  100.666667  2016.777778  23.909333                        1   \n",
       "\n",
       "   Manufacturer_Aston-Martin  Manufacturer_Audi  Manufacturer_BMW  \\\n",
       "0                          0                  0                 0   \n",
       "1                          0                  0                 0   \n",
       "2                          0                  0                 0   \n",
       "3                          0                  0                 0   \n",
       "4                          0                  0                 0   \n",
       "\n",
       "   Manufacturer_Bentley  Manufacturer_Chevrolet  ...  Manufacturer_Ssangyong  \\\n",
       "0                     0                       0  ...                       0   \n",
       "1                     0                       0  ...                       0   \n",
       "2                     0                       0  ...                       0   \n",
       "3                     0                       0  ...                       0   \n",
       "4                     0                       0  ...                       0   \n",
       "\n",
       "   Manufacturer_Subaru  Manufacturer_Suzuki  Manufacturer_TVR  \\\n",
       "0                    0                    0                 0   \n",
       "1                    0                    0                 0   \n",
       "2                    0                    0                 0   \n",
       "3                    0                    0                 0   \n",
       "4                    0                    0                 0   \n",
       "\n",
       "   Manufacturer_Toyota  Manufacturer_Triumph  Manufacturer_Volkswagen  \\\n",
       "0                    0                     0                        0   \n",
       "1                    0                     0                        0   \n",
       "2                    0                     0                        0   \n",
       "3                    0                     0                        0   \n",
       "4                    0                     0                        0   \n",
       "\n",
       "   Manufacturer_Volvo  Fuel_diesel  Fuel_petrol  \n",
       "0                   0            0            1  \n",
       "1                   0            0            1  \n",
       "2                   0            0            1  \n",
       "3                   0            0            1  \n",
       "4                   0            0            1  \n",
       "\n",
       "[5 rows x 57 columns]"
      ]
     },
     "execution_count": 27,
     "metadata": {},
     "output_type": "execute_result"
    }
   ],
   "source": [
    "final_df.head()"
   ]
  },
  {
   "cell_type": "code",
   "execution_count": 28,
   "id": "d5c31204",
   "metadata": {},
   "outputs": [],
   "source": [
    "first_column = final_df.pop('Price')\n",
    "final_df.insert(0, 'Price', first_column)"
   ]
  },
  {
   "cell_type": "code",
   "execution_count": 29,
   "id": "19da58f8",
   "metadata": {},
   "outputs": [],
   "source": [
    "X=final_df.iloc[:,1:]\n",
    "y=final_df.iloc[:,0]"
   ]
  },
  {
   "cell_type": "code",
   "execution_count": 30,
   "id": "d04bfdbb",
   "metadata": {},
   "outputs": [],
   "source": [
    "from sklearn.model_selection import train_test_split\n",
    "X_train, X_test, y_train, y_test= train_test_split(X,y,test_size=0.2, random_state=0)"
   ]
  },
  {
   "cell_type": "code",
   "execution_count": 31,
   "id": "ccda8342",
   "metadata": {},
   "outputs": [
    {
     "data": {
      "text/html": [
       "<style>#sk-container-id-1 {color: black;background-color: white;}#sk-container-id-1 pre{padding: 0;}#sk-container-id-1 div.sk-toggleable {background-color: white;}#sk-container-id-1 label.sk-toggleable__label {cursor: pointer;display: block;width: 100%;margin-bottom: 0;padding: 0.3em;box-sizing: border-box;text-align: center;}#sk-container-id-1 label.sk-toggleable__label-arrow:before {content: \"▸\";float: left;margin-right: 0.25em;color: #696969;}#sk-container-id-1 label.sk-toggleable__label-arrow:hover:before {color: black;}#sk-container-id-1 div.sk-estimator:hover label.sk-toggleable__label-arrow:before {color: black;}#sk-container-id-1 div.sk-toggleable__content {max-height: 0;max-width: 0;overflow: hidden;text-align: left;background-color: #f0f8ff;}#sk-container-id-1 div.sk-toggleable__content pre {margin: 0.2em;color: black;border-radius: 0.25em;background-color: #f0f8ff;}#sk-container-id-1 input.sk-toggleable__control:checked~div.sk-toggleable__content {max-height: 200px;max-width: 100%;overflow: auto;}#sk-container-id-1 input.sk-toggleable__control:checked~label.sk-toggleable__label-arrow:before {content: \"▾\";}#sk-container-id-1 div.sk-estimator input.sk-toggleable__control:checked~label.sk-toggleable__label {background-color: #d4ebff;}#sk-container-id-1 div.sk-label input.sk-toggleable__control:checked~label.sk-toggleable__label {background-color: #d4ebff;}#sk-container-id-1 input.sk-hidden--visually {border: 0;clip: rect(1px 1px 1px 1px);clip: rect(1px, 1px, 1px, 1px);height: 1px;margin: -1px;overflow: hidden;padding: 0;position: absolute;width: 1px;}#sk-container-id-1 div.sk-estimator {font-family: monospace;background-color: #f0f8ff;border: 1px dotted black;border-radius: 0.25em;box-sizing: border-box;margin-bottom: 0.5em;}#sk-container-id-1 div.sk-estimator:hover {background-color: #d4ebff;}#sk-container-id-1 div.sk-parallel-item::after {content: \"\";width: 100%;border-bottom: 1px solid gray;flex-grow: 1;}#sk-container-id-1 div.sk-label:hover label.sk-toggleable__label {background-color: #d4ebff;}#sk-container-id-1 div.sk-serial::before {content: \"\";position: absolute;border-left: 1px solid gray;box-sizing: border-box;top: 0;bottom: 0;left: 50%;z-index: 0;}#sk-container-id-1 div.sk-serial {display: flex;flex-direction: column;align-items: center;background-color: white;padding-right: 0.2em;padding-left: 0.2em;position: relative;}#sk-container-id-1 div.sk-item {position: relative;z-index: 1;}#sk-container-id-1 div.sk-parallel {display: flex;align-items: stretch;justify-content: center;background-color: white;position: relative;}#sk-container-id-1 div.sk-item::before, #sk-container-id-1 div.sk-parallel-item::before {content: \"\";position: absolute;border-left: 1px solid gray;box-sizing: border-box;top: 0;bottom: 0;left: 50%;z-index: -1;}#sk-container-id-1 div.sk-parallel-item {display: flex;flex-direction: column;z-index: 1;position: relative;background-color: white;}#sk-container-id-1 div.sk-parallel-item:first-child::after {align-self: flex-end;width: 50%;}#sk-container-id-1 div.sk-parallel-item:last-child::after {align-self: flex-start;width: 50%;}#sk-container-id-1 div.sk-parallel-item:only-child::after {width: 0;}#sk-container-id-1 div.sk-dashed-wrapped {border: 1px dashed gray;margin: 0 0.4em 0.5em 0.4em;box-sizing: border-box;padding-bottom: 0.4em;background-color: white;}#sk-container-id-1 div.sk-label label {font-family: monospace;font-weight: bold;display: inline-block;line-height: 1.2em;}#sk-container-id-1 div.sk-label-container {text-align: center;}#sk-container-id-1 div.sk-container {/* jupyter's `normalize.less` sets `[hidden] { display: none; }` but bootstrap.min.css set `[hidden] { display: none !important; }` so we also need the `!important` here to be able to override the default hidden behavior on the sphinx rendered scikit-learn.org. See: https://github.com/scikit-learn/scikit-learn/issues/21755 */display: inline-block !important;position: relative;}#sk-container-id-1 div.sk-text-repr-fallback {display: none;}</style><div id=\"sk-container-id-1\" class=\"sk-top-container\"><div class=\"sk-text-repr-fallback\"><pre>LinearRegression()</pre><b>In a Jupyter environment, please rerun this cell to show the HTML representation or trust the notebook. <br />On GitHub, the HTML representation is unable to render, please try loading this page with nbviewer.org.</b></div><div class=\"sk-container\" hidden><div class=\"sk-item\"><div class=\"sk-estimator sk-toggleable\"><input class=\"sk-toggleable__control sk-hidden--visually\" id=\"sk-estimator-id-1\" type=\"checkbox\" checked><label for=\"sk-estimator-id-1\" class=\"sk-toggleable__label sk-toggleable__label-arrow\">LinearRegression</label><div class=\"sk-toggleable__content\"><pre>LinearRegression()</pre></div></div></div></div></div>"
      ],
      "text/plain": [
       "LinearRegression()"
      ]
     },
     "execution_count": 31,
     "metadata": {},
     "output_type": "execute_result"
    }
   ],
   "source": [
    "from sklearn.linear_model import LinearRegression\n",
    "regressor= LinearRegression()\n",
    "regressor.fit(X_train, y_train)"
   ]
  },
  {
   "cell_type": "code",
   "execution_count": 32,
   "id": "b3c30d1d",
   "metadata": {},
   "outputs": [
    {
     "data": {
      "text/plain": [
       "0.8732831478565446"
      ]
     },
     "execution_count": 32,
     "metadata": {},
     "output_type": "execute_result"
    }
   ],
   "source": [
    "regressor.score(X_test,y_test)"
   ]
  },
  {
   "cell_type": "code",
   "execution_count": 33,
   "id": "c4ed0009",
   "metadata": {},
   "outputs": [
    {
     "data": {
      "text/plain": [
       "0.8206322380613967"
      ]
     },
     "metadata": {},
     "output_type": "display_data"
    },
    {
     "data": {
      "text/plain": [
       "0.8732831478565446"
      ]
     },
     "metadata": {},
     "output_type": "display_data"
    }
   ],
   "source": [
    "#scores of training data and test data \n",
    "from sklearn.metrics import r2_score\n",
    "display(r2_score(y_train,regressor.predict(X_train)),r2_score(y_test,regressor.predict(X_test)))"
   ]
  },
  {
   "cell_type": "code",
   "execution_count": 34,
   "id": "c3959b3e",
   "metadata": {},
   "outputs": [
    {
     "data": {
      "text/plain": [
       "array([0.87328315, 0.93795186])"
      ]
     },
     "execution_count": 34,
     "metadata": {},
     "output_type": "execute_result"
    }
   ],
   "source": [
    "#K Fold Cross validation\n",
    "from sklearn.model_selection import ShuffleSplit\n",
    "from sklearn.model_selection import cross_val_score\n",
    "\n",
    "cv = ShuffleSplit(n_splits=2, test_size=0.2, random_state=0)\n",
    "\n",
    "cross_val_score(LinearRegression(), X, y, cv=cv)"
   ]
  },
  {
   "cell_type": "code",
   "execution_count": 35,
   "id": "bfaf4cb7",
   "metadata": {},
   "outputs": [
    {
     "name": "stderr",
     "output_type": "stream",
     "text": [
      "C:\\Users\\Kamini\\.conda\\envs\\car_sales\\lib\\site-packages\\sklearn\\linear_model\\_base.py:141: FutureWarning: 'normalize' was deprecated in version 1.0 and will be removed in 1.2.\n",
      "If you wish to scale the data, use Pipeline with a StandardScaler in a preprocessing stage. To reproduce the previous behavior:\n",
      "\n",
      "from sklearn.pipeline import make_pipeline\n",
      "\n",
      "model = make_pipeline(StandardScaler(with_mean=False), LinearRegression())\n",
      "\n",
      "If you wish to pass a sample_weight parameter, you need to pass it as a fit parameter to each step of the pipeline as follows:\n",
      "\n",
      "kwargs = {s[0] + '__sample_weight': sample_weight for s in model.steps}\n",
      "model.fit(X, y, **kwargs)\n",
      "\n",
      "\n",
      "  warnings.warn(\n",
      "C:\\Users\\Kamini\\.conda\\envs\\car_sales\\lib\\site-packages\\sklearn\\linear_model\\_base.py:141: FutureWarning: 'normalize' was deprecated in version 1.0 and will be removed in 1.2.\n",
      "If you wish to scale the data, use Pipeline with a StandardScaler in a preprocessing stage. To reproduce the previous behavior:\n",
      "\n",
      "from sklearn.pipeline import make_pipeline\n",
      "\n",
      "model = make_pipeline(StandardScaler(with_mean=False), LinearRegression())\n",
      "\n",
      "If you wish to pass a sample_weight parameter, you need to pass it as a fit parameter to each step of the pipeline as follows:\n",
      "\n",
      "kwargs = {s[0] + '__sample_weight': sample_weight for s in model.steps}\n",
      "model.fit(X, y, **kwargs)\n",
      "\n",
      "\n",
      "  warnings.warn(\n",
      "C:\\Users\\Kamini\\.conda\\envs\\car_sales\\lib\\site-packages\\sklearn\\linear_model\\_base.py:148: FutureWarning: 'normalize' was deprecated in version 1.0 and will be removed in 1.2. Please leave the normalize parameter to its default value to silence this warning. The default behavior of this estimator is to not do any normalization. If normalization is needed please use sklearn.preprocessing.StandardScaler instead.\n",
      "  warnings.warn(\n",
      "C:\\Users\\Kamini\\.conda\\envs\\car_sales\\lib\\site-packages\\sklearn\\linear_model\\_base.py:148: FutureWarning: 'normalize' was deprecated in version 1.0 and will be removed in 1.2. Please leave the normalize parameter to its default value to silence this warning. The default behavior of this estimator is to not do any normalization. If normalization is needed please use sklearn.preprocessing.StandardScaler instead.\n",
      "  warnings.warn(\n",
      "C:\\Users\\Kamini\\.conda\\envs\\car_sales\\lib\\site-packages\\sklearn\\linear_model\\_base.py:148: FutureWarning: 'normalize' was deprecated in version 1.0 and will be removed in 1.2. Please leave the normalize parameter to its default value to silence this warning. The default behavior of this estimator is to not do any normalization. If normalization is needed please use sklearn.preprocessing.StandardScaler instead.\n",
      "  warnings.warn(\n",
      "C:\\Users\\Kamini\\.conda\\envs\\car_sales\\lib\\site-packages\\sklearn\\tree\\_classes.py:397: FutureWarning: Criterion 'mse' was deprecated in v1.0 and will be removed in version 1.2. Use `criterion='squared_error'` which is equivalent.\n",
      "  warnings.warn(\n",
      "C:\\Users\\Kamini\\.conda\\envs\\car_sales\\lib\\site-packages\\sklearn\\tree\\_classes.py:397: FutureWarning: Criterion 'mse' was deprecated in v1.0 and will be removed in version 1.2. Use `criterion='squared_error'` which is equivalent.\n",
      "  warnings.warn(\n",
      "C:\\Users\\Kamini\\.conda\\envs\\car_sales\\lib\\site-packages\\sklearn\\tree\\_classes.py:397: FutureWarning: Criterion 'mse' was deprecated in v1.0 and will be removed in version 1.2. Use `criterion='squared_error'` which is equivalent.\n",
      "  warnings.warn(\n",
      "C:\\Users\\Kamini\\.conda\\envs\\car_sales\\lib\\site-packages\\sklearn\\tree\\_classes.py:397: FutureWarning: Criterion 'mse' was deprecated in v1.0 and will be removed in version 1.2. Use `criterion='squared_error'` which is equivalent.\n",
      "  warnings.warn(\n"
     ]
    },
    {
     "data": {
      "text/html": [
       "<div>\n",
       "<style scoped>\n",
       "    .dataframe tbody tr th:only-of-type {\n",
       "        vertical-align: middle;\n",
       "    }\n",
       "\n",
       "    .dataframe tbody tr th {\n",
       "        vertical-align: top;\n",
       "    }\n",
       "\n",
       "    .dataframe thead th {\n",
       "        text-align: right;\n",
       "    }\n",
       "</style>\n",
       "<table border=\"1\" class=\"dataframe\">\n",
       "  <thead>\n",
       "    <tr style=\"text-align: right;\">\n",
       "      <th></th>\n",
       "      <th>model</th>\n",
       "      <th>best_score</th>\n",
       "      <th>best_params</th>\n",
       "    </tr>\n",
       "  </thead>\n",
       "  <tbody>\n",
       "    <tr>\n",
       "      <th>0</th>\n",
       "      <td>Linear_regression</td>\n",
       "      <td>0.905618</td>\n",
       "      <td>{'normalize': False}</td>\n",
       "    </tr>\n",
       "    <tr>\n",
       "      <th>1</th>\n",
       "      <td>Lasso</td>\n",
       "      <td>0.853018</td>\n",
       "      <td>{'alpha': 1, 'selection': 'random'}</td>\n",
       "    </tr>\n",
       "    <tr>\n",
       "      <th>2</th>\n",
       "      <td>Decision_tree</td>\n",
       "      <td>0.866575</td>\n",
       "      <td>{'criterion': 'friedman_mse', 'splitter': 'best'}</td>\n",
       "    </tr>\n",
       "  </tbody>\n",
       "</table>\n",
       "</div>"
      ],
      "text/plain": [
       "               model  best_score  \\\n",
       "0  Linear_regression    0.905618   \n",
       "1              Lasso    0.853018   \n",
       "2      Decision_tree    0.866575   \n",
       "\n",
       "                                         best_params  \n",
       "0                               {'normalize': False}  \n",
       "1                {'alpha': 1, 'selection': 'random'}  \n",
       "2  {'criterion': 'friedman_mse', 'splitter': 'best'}  "
      ]
     },
     "execution_count": 35,
     "metadata": {},
     "output_type": "execute_result"
    }
   ],
   "source": [
    "from sklearn.model_selection import GridSearchCV\n",
    "\n",
    "from sklearn.linear_model import Lasso\n",
    "from sklearn.tree import DecisionTreeRegressor\n",
    "\n",
    "def find_best_model_using_gridsearchcv(X,y):\n",
    "    algos = {\n",
    "        'Linear_regression' : {\n",
    "            'model': LinearRegression(),\n",
    "            'params': {\n",
    "                'normalize': [True, False]\n",
    "            }\n",
    "        },\n",
    "        'Lasso': {\n",
    "            'model': Lasso(),\n",
    "            'params': {\n",
    "                'alpha': [1,2],\n",
    "                'selection': ['random', 'cyclic']\n",
    "            }\n",
    "        },\n",
    "        'Decision_tree': {\n",
    "            'model': DecisionTreeRegressor(),\n",
    "            'params': {\n",
    "                'criterion' : ['mse','friedman_mse'],\n",
    "                'splitter': ['best','random']\n",
    "            }\n",
    "        }\n",
    "    }\n",
    "    scores = []\n",
    "    cv = ShuffleSplit(n_splits=2, test_size=0.2, random_state=0)\n",
    "    for algo_name, config in algos.items():\n",
    "        gs =  GridSearchCV(config['model'], config['params'], cv=cv, return_train_score=False)\n",
    "        gs.fit(X,y)\n",
    "        scores.append({\n",
    "            'model': algo_name,\n",
    "            'best_score': gs.best_score_,\n",
    "            'best_params': gs.best_params_\n",
    "        })\n",
    "\n",
    "    return pd.DataFrame(scores,columns=['model','best_score','best_params'])\n",
    "\n",
    "find_best_model_using_gridsearchcv(X,y)"
   ]
  },
  {
   "cell_type": "code",
   "execution_count": 36,
   "id": "72555f7b",
   "metadata": {},
   "outputs": [],
   "source": [
    "import pickle\n",
    "with open('carsales.pickle','wb') as f:\n",
    "    pickle.dump(regressor,f) "
   ]
  },
  {
   "cell_type": "code",
   "execution_count": null,
   "id": "367cbffe",
   "metadata": {},
   "outputs": [],
   "source": []
  }
 ],
 "metadata": {
  "kernelspec": {
   "display_name": "Python 3 (ipykernel)",
   "language": "python",
   "name": "python3"
  },
  "language_info": {
   "codemirror_mode": {
    "name": "ipython",
    "version": 3
   },
   "file_extension": ".py",
   "mimetype": "text/x-python",
   "name": "python",
   "nbconvert_exporter": "python",
   "pygments_lexer": "ipython3",
   "version": "3.9.12"
  }
 },
 "nbformat": 4,
 "nbformat_minor": 5
}
